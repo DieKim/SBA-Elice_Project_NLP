{
 "cells": [
  {
   "cell_type": "markdown",
   "metadata": {},
   "source": [
    "# [실습1] 퍼셉트론 작동 예시 구현하기"
   ]
  },
  {
   "cell_type": "markdown",
   "metadata": {},
   "source": [
    "* 외출 여부를 판단하는 퍼셉트론 함수 작성하기\n",
    "* x1, x2, w1, w2값에 따른 신호의 총합 계산 후 활성화 함수에 대입\n",
    "* 외출 여부를 나타내는 y값(1: 외출한다, 0: 외출하지 않는다) 반환"
   ]
  },
  {
   "cell_type": "code",
   "execution_count": 1,
   "metadata": {},
   "outputs": [],
   "source": [
    "'''\n",
    "\n",
    "지시사항 1번\n",
    "신호의 총합과 외출 여부를 반환하는 Perceptron 함수를 완성합니다.\n",
    "\n",
    "   Step01. Bias는 외출을 좋아하는 정도이며\n",
    "           -1로 설정되어 있습니다.\n",
    "   \n",
    "   Step02. 입력 받은 값과 Bias 값을 이용하여 신호의\n",
    "           총합을 구합니다.\n",
    "           \n",
    "   Step03. 지시한 활성화 함수를 참고하여 외출 여부\n",
    "           (0 or 1)를 반환합니다.\n",
    "\n",
    "'''\n",
    "\n",
    "def Perceptron(x_1,x_2,w_1,w_2):\n",
    "    \n",
    "    bias = -1\n",
    "\n",
    "    output = x_1*w_1 + x_2*w_2 + bias\n",
    "    \n",
    "    if output>0:\n",
    "        y = 1\n",
    "    else:\n",
    "        y = 0\n",
    "    \n",
    "    return output, y"
   ]
  },
  {
   "cell_type": "code",
   "execution_count": 2,
   "metadata": {},
   "outputs": [],
   "source": [
    "# 값을 입력받는 함수입니다.\n",
    "\n",
    "def input_func():\n",
    "    \n",
    "    # 비 오는 여부(비가 온다 : 1 / 비가 오지 않는다 : 0)\n",
    "    x_1 =  int(input(\"x_1 : 비가 오는 여부(1 or 0)을 입력하세요.\"))\n",
    "    \n",
    "    # 여자친구가 만나자고 하는 여부(만나자고 한다 : 1 / 만나자고 하지 않는다 : 0)\n",
    "    x_2 =  int(input(\"x_2 : 여친이 만나자고 하는 여부(1 or 0)을 입력하세요.\"))\n",
    "    \n",
    "    # 비를 좋아하는 정도의 값(비를 싫어한다 -5 ~ 5 비를 좋아한다)\n",
    "    w_1 =  int(input(\"w_1 : 비를 좋아하는 정도 값(-5 ~ 5)을 입력하세요.\"))\n",
    "    \n",
    "    # 여자친구를 좋아하는 정도의 값(여자친구를 싫어한다 -5 ~ 5 비를 좋아한다)\n",
    "    w_2 =  int(input(\"w_2 : 여친을 좋아하는 정도 값(-5 ~ 5)을 입력하세요.\"))\n",
    "    \n",
    "    return x_1, x_2, w_1, w_2"
   ]
  },
  {
   "cell_type": "code",
   "execution_count": 3,
   "metadata": {},
   "outputs": [
    {
     "name": "stdout",
     "output_type": "stream",
     "text": [
      "x_1 : 비가 오는 여부(1 or 0)을 입력하세요.1\n",
      "x_2 : 여친이 만나자고 하는 여부(1 or 0)을 입력하세요.0\n",
      "w_1 : 비를 좋아하는 정도 값(-5 ~ 5)을 입력하세요.3\n",
      "w_2 : 여친을 좋아하는 정도 값(-5 ~ 5)을 입력하세요.2\n",
      "\n",
      "신호의 총합 : 2\n",
      "외출 여부 : 1\n",
      " ==> 외출한다!\n"
     ]
    }
   ],
   "source": [
    "'''\n",
    "\n",
    "지시사항 2번\n",
    "실행 버튼을 눌러 x1, x2, w1, w2 값을 다양하게 입력해보고,\n",
    "Perceptron함수에서 반환한 신호의 총합과 그에 따른 외출 여부를 확인해보세요\n",
    "\n",
    "'''\n",
    "    \n",
    "def main():\n",
    "    \n",
    "    x_1, x_2, w_1, w_2 = input_func()\n",
    "    \n",
    "    result, go_out = Perceptron(x_1,x_2,w_1,w_2)\n",
    "    \n",
    "    print(\"\\n신호의 총합 : %d\" % result)\n",
    "    \n",
    "    if go_out > 0:\n",
    "        print(\"외출 여부 : %d\\n ==> 외출한다!\" % go_out)\n",
    "    else:\n",
    "        print(\"외출 여부 : %d\\n ==> 외출하지 않는다!\" % go_out)\n",
    "    \n",
    "if __name__ == \"__main__\":\n",
    "    main()"
   ]
  },
  {
   "cell_type": "markdown",
   "metadata": {},
   "source": [
    "# [실습2] 퍼셉트론 선형 분류기를 이용해 붓꽃 데이터 분류하기"
   ]
  },
  {
   "cell_type": "markdown",
   "metadata": {},
   "source": [
    "* 사이킷런에서 제공하는 퍼셉트론 선형분류기와 붓꽃의 2가지 특징을 이용하여 붓꽃 품종 분류하기\n",
    "* iris data: 사이킷런에서 제공하는 데이터셋\n",
    "* data: 꽃의 정보를 저장\n",
    "* target: 해당 꽃의 품종을 저장\n",
    "* from sklearn.linear_model import Perceptron: Perceptron 모델 불러오기\n",
    "* Perceptron(max_iter, eta0): Perceptron 모델 정의하기"
   ]
  },
  {
   "cell_type": "code",
   "execution_count": 5,
   "metadata": {},
   "outputs": [],
   "source": [
    "import numpy as np\n",
    "\n",
    "from sklearn.datasets import load_iris\n",
    "from sklearn.metrics import accuracy_score\n",
    "from sklearn.model_selection import train_test_split\n",
    "from sklearn.linear_model import Perceptron\n",
    "\n",
    "#import elice_utils\n",
    "#eu = elice_utils.EliceUtils()\n",
    "\n",
    "np.random.seed(100)"
   ]
  },
  {
   "cell_type": "code",
   "execution_count": 6,
   "metadata": {},
   "outputs": [],
   "source": [
    "'''\n",
    "1. iris 데이터를 불러오고, \n",
    "   불러온 데이터를 학습용, 테스트용 데이터로 \n",
    "   분리하여 반환하는 함수를 구현합니다.\n",
    "   \n",
    "   Step01. 불러온 데이터를 학습용 데이터 80%, \n",
    "           테스트용 데이터 20%로 분리합니다.\n",
    "           \n",
    "           일관된 결과 확인을 위해 random_state를 \n",
    "           0으로 설정합니다.        \n",
    "'''\n",
    "\n",
    "def load_data():\n",
    "    \n",
    "    iris = load_iris()\n",
    "    \n",
    "    X = iris.data[:,2:4]\n",
    "    Y = iris.target\n",
    "    \n",
    "    X_train, X_test, Y_train, Y_test = train_test_split(X, Y, test_size=0.2, random_state=0)\n",
    "    \n",
    "    return X_train, X_test, Y_train, Y_test"
   ]
  },
  {
   "cell_type": "code",
   "execution_count": 7,
   "metadata": {},
   "outputs": [
    {
     "name": "stdout",
     "output_type": "stream",
     "text": [
      "Test 데이터에 대한 정확도 : 0.93333\n"
     ]
    }
   ],
   "source": [
    "'''\n",
    "2. 사이킷런의 Perceptron 클래스를 사용하여 \n",
    "   Perceptron 모델을 정의하고,\n",
    "   학습용 데이터에 대해 학습시킵니다.\n",
    "   \n",
    "   Step01. 앞서 완성한 함수를 통해 데이터를 불러옵니다.\n",
    "   \n",
    "   Step02. Perceptron 모델을 정의합니다.\n",
    "           max_iter와 eta0를 자유롭게 설정해보세요.\n",
    "   \n",
    "   Step03. 학습용 데이터에 대해 모델을 학습시킵니다.\n",
    "   \n",
    "   Step04. 테스트 데이터에 대한 모델 예측을 수행합니다. \n",
    "'''\n",
    "\n",
    "def main():   \n",
    "    \n",
    "    X_train, X_test, Y_train, Y_test = load_data()\n",
    "    \n",
    "    perceptron = Perceptron(max_iter=10000, eta0=0.0001)\n",
    "    \n",
    "    perceptron.fit(X_train, Y_train)\n",
    "    \n",
    "    pred = perceptron.predict(X_test)\n",
    "    \n",
    "    accuracy = accuracy_score(pred, Y_test)\n",
    "    \n",
    "    print(\"Test 데이터에 대한 정확도 : %0.5f\" % accuracy)\n",
    "    \n",
    "    return X_train, X_test, Y_train, Y_test, pred\n",
    "\n",
    "if __name__ == \"__main__\":\n",
    "    main()"
   ]
  },
  {
   "cell_type": "markdown",
   "metadata": {},
   "source": [
    "# [실습3] 다층 퍼셉트론으로 XOR gate 구현하기"
   ]
  },
  {
   "cell_type": "markdown",
   "metadata": {},
   "source": [
    "* 단일 퍼셉트론 = 선형 분류기: AND, OR, NAND, NOR Gate\n",
    "* 다층 퍼셉트론 = 비선형 분류기: XOR Gate\n",
    "* XOR = AND(NAND, OR)"
   ]
  },
  {
   "cell_type": "code",
   "execution_count": 8,
   "metadata": {},
   "outputs": [],
   "source": [
    "import numpy as np"
   ]
  },
  {
   "cell_type": "code",
   "execution_count": 9,
   "metadata": {},
   "outputs": [],
   "source": [
    "'''\n",
    "\n",
    "지시사항 1번\n",
    "AND_gate 함수를 완성하세요. \n",
    "\n",
    "'''\n",
    "\n",
    "def AND_gate(x1,x2):\n",
    "    \n",
    "    x = np.array([x1,x2])\n",
    "    \n",
    "    weight = np.array([1,1])\n",
    "    \n",
    "    bias = -1.5\n",
    "    \n",
    "    y = np.dot(x, weight) + bias\n",
    "\n",
    "    return Step_Function(y)"
   ]
  },
  {
   "cell_type": "code",
   "execution_count": 10,
   "metadata": {},
   "outputs": [],
   "source": [
    "'''\n",
    "\n",
    "지시사항 2번\n",
    "OR_gate 함수를 완성하세요.\n",
    "\n",
    "'''\n",
    "\n",
    "def OR_gate(x1,x2):\n",
    "    \n",
    "    x = np.array([x1,x2])\n",
    "    \n",
    "    weight = np.array([1,1])\n",
    "    \n",
    "    bias = -0.5\n",
    "    \n",
    "    y = np.dot(x, weight) + bias\n",
    "    \n",
    "    return Step_Function(y)"
   ]
  },
  {
   "cell_type": "code",
   "execution_count": 11,
   "metadata": {},
   "outputs": [],
   "source": [
    "'''\n",
    "\n",
    "지시사항 3번\n",
    "NAND_gate 함수를 완성하세요.\n",
    "\n",
    "'''\n",
    "\n",
    "def NAND_gate(x1,x2):\n",
    "    \n",
    "    x = np.array([x1,x2])\n",
    "    \n",
    "    weight = np.array([-1,-1])\n",
    "    \n",
    "    bias = 1.5\n",
    "    \n",
    "    y = np.dot(x, weight) + bias\n",
    "    \n",
    "    return Step_Function(y) "
   ]
  },
  {
   "cell_type": "code",
   "execution_count": 12,
   "metadata": {},
   "outputs": [],
   "source": [
    "'''\n",
    "\n",
    "지시사항 4번\n",
    "Step_Function 함수를 완성하세요.\n",
    "\n",
    "'''\n",
    "\n",
    "def Step_Function(y):\n",
    "    \n",
    "    if y>=0:\n",
    "        return 1\n",
    "    else:\n",
    "        return 0"
   ]
  },
  {
   "cell_type": "code",
   "execution_count": 13,
   "metadata": {},
   "outputs": [],
   "source": [
    "'''\n",
    "\n",
    "지시사항 5번\n",
    "AND_gate, OR_gate, NAND_gate 함수들을\n",
    "   활용하여 XOR_gate 함수를 완성하세요. 앞서 만든\n",
    "   함수를 활용하여 반환되는 값을 정의하세요.\n",
    "\n",
    "'''\n",
    "\n",
    "def XOR_gate(x1, x2):\n",
    "    \n",
    "    z1 = NAND_gate(x1,x2)\n",
    "    z2 = OR_gate(x1,x2)\n",
    "    \n",
    "    return AND_gate(z1, z2)"
   ]
  },
  {
   "cell_type": "code",
   "execution_count": 14,
   "metadata": {},
   "outputs": [
    {
     "name": "stdout",
     "output_type": "stream",
     "text": [
      "XOR Gate 출력\n",
      "Input:  0 0 , Output:  0\n",
      "Input:  0 1 , Output:  1\n",
      "Input:  1 0 , Output:  1\n",
      "Input:  1 1 , Output:  0\n"
     ]
    }
   ],
   "source": [
    "def main():\n",
    "    \n",
    "    # XOR gate에 넣어줄 Input\n",
    "    array = np.array([[0,0], [0,1], [1,0], [1,1]])\n",
    "    \n",
    "    # XOR gate를 만족하는지 출력하여 확인\n",
    "    print('XOR Gate 출력')\n",
    "    \n",
    "    for x1, x2 in array:\n",
    "        print('Input: ',x1, x2, ', Output: ', XOR_gate(x1, x2))\n",
    "\n",
    "if __name__ == \"__main__\":\n",
    "    main()"
   ]
  },
  {
   "cell_type": "markdown",
   "metadata": {},
   "source": [
    "# [미션] Fashion-MNIST 데이터 분류하기"
   ]
  },
  {
   "cell_type": "markdown",
   "metadata": {},
   "source": [
    "* 각 이미지의 레이블에 맞게 분류하는 인공 신경망을 생성하기\n",
    "* Fashion-MNIST: 의류, 가방, 신발 등의 패션 이미지들의 데이터셋\n",
    "* 데이터 전처리: (28, 28)의 다차원 데이터 -> 1차원\n",
    "* 학습/테스트데이터: 60,000개 중 4000개/10,000개 중 1000개 랜덤으로 추출"
   ]
  },
  {
   "cell_type": "code",
   "execution_count": 8,
   "metadata": {},
   "outputs": [],
   "source": [
    "from __future__ import absolute_import, division, print_function, unicode_literals\n",
    "\n",
    "import tensorflow as tf\n",
    "import matplotlib.pyplot as plt\n",
    "import numpy as np\n",
    "import random\n",
    "import os\n",
    "os.environ['TF_CPP_MIN_LOG_LEVEL'] = '2'\n",
    "\n",
    "#import elice_utils\n",
    "#eu = elice_utils.EliceUtils()\n",
    "\n",
    "#np.random.seed(100)\n",
    "#tf.random.set_seed(100)"
   ]
  },
  {
   "cell_type": "code",
   "execution_count": 9,
   "metadata": {},
   "outputs": [],
   "source": [
    "def ANN_classifier(x_train, y_train):\n",
    "\n",
    "    '''\n",
    "    지시사항 1번\n",
    "    인공 신경망 분류 모델을 생성합니다.\n",
    "    '''\n",
    "    model = tf.keras.models.Sequential([\n",
    "        tf.keras.layers.Dense(64, activation='relu'), # Input layer\n",
    "        tf.keras.layers.Dense(32, activation='relu'), # Hidden layer\n",
    "        tf.keras.layers.Dense(32, activation='relu'), # Hidden layer\n",
    "        tf.keras.layers.Dense(32, activation='relu'), # Hidden layer\n",
    "        tf.keras.layers.Dense(10, activation='softmax') # Output layer\n",
    "    ])\n",
    "    \n",
    "    '''\n",
    "    지시사항 2번\n",
    "    model 을 학습시킬 `optimizer`와 `loss`를 다음과 같이 설정하세요.\n",
    "    '''\n",
    "    model.compile(loss='sparse_categorical_crossentropy',\n",
    "                  optimizer='adam',\n",
    "                  metrics=['accuracy'])\n",
    "    \n",
    "    '''\n",
    "    지시사항 3번\n",
    "    학습할 `epochs` 값을 설정하여 train 데이터에 대한 학습을 진행합니다.\n",
    "    '''\n",
    "    model.fit(x_train, y_train, epochs=5)\n",
    "\n",
    "    return model"
   ]
  },
  {
   "cell_type": "code",
   "execution_count": 10,
   "metadata": {},
   "outputs": [
    {
     "name": "stdout",
     "output_type": "stream",
     "text": [
      "Epoch 1/5\n",
      "4000/4000 [==============================] - 1s 215us/sample - loss: 1.4536 - acc: 0.4740\n",
      "Epoch 2/5\n",
      "4000/4000 [==============================] - 1s 173us/sample - loss: 0.7137 - acc: 0.7458\n",
      "Epoch 3/5\n",
      "4000/4000 [==============================] - 1s 136us/sample - loss: 0.5795 - acc: 0.7922\n",
      "Epoch 4/5\n",
      "4000/4000 [==============================] - 1s 203us/sample - loss: 0.5300 - acc: 0.8145\n",
      "Epoch 5/5\n",
      "4000/4000 [==============================] - 1s 248us/sample - loss: 0.4821 - acc: 0.8322\n",
      "1000/1000 - 0s - loss: 0.4209 - acc: 0.8570\n",
      "\n",
      "- TEST 정확도 : 0.857\n"
     ]
    },
    {
     "data": {
      "image/png": "[encoded data removed]",
      "text/plain": [
       "<Figure size 432x288 with 1 Axes>"
      ]
     },
     "metadata": {
      "needs_background": "light"
     },
     "output_type": "display_data"
    },
    {
     "name": "stdout",
     "output_type": "stream",
     "text": [
      "Label:  4.0\n",
      "Prediction:  3\n"
     ]
    },
    {
     "data": {
      "image/png": "[encoded data removed]",
      "text/plain": [
       "<Figure size 432x288 with 1 Axes>"
      ]
     },
     "metadata": {
      "needs_background": "light"
     },
     "output_type": "display_data"
    },
    {
     "name": "stdout",
     "output_type": "stream",
     "text": [
      "Label:  8.0\n",
      "Prediction:  8\n"
     ]
    },
    {
     "data": {
      "image/png": "[encoded data removed]",
      "text/plain": [
       "<Figure size 432x288 with 1 Axes>"
      ]
     },
     "metadata": {
      "needs_background": "light"
     },
     "output_type": "display_data"
    },
    {
     "name": "stdout",
     "output_type": "stream",
     "text": [
      "Label:  7.0\n",
      "Prediction:  7\n"
     ]
    },
    {
     "data": {
      "text/plain": [
       "<Figure size 432x288 with 0 Axes>"
      ]
     },
     "metadata": {},
     "output_type": "display_data"
    }
   ],
   "source": [
    "def main():\n",
    "    \n",
    "    x_train = np.loadtxt('C:/Users/USER/Elice/data/train_images.csv', delimiter =',', dtype = np.float32)\n",
    "    y_train = np.loadtxt('C:/Users/USER/Elice/data/train_labels.csv', delimiter =',', dtype = np.float32)\n",
    "    x_test = np.loadtxt('C:/Users/USER/Elice/data/test_images.csv', delimiter =',', dtype = np.float32)\n",
    "    y_test = np.loadtxt('C:/Users/USER/Elice/data/test_labels.csv', delimiter =',', dtype = np.float32)\n",
    "\n",
    "    \n",
    "    # 이미지 데이터를 0~1범위의 값으로 바꾸어 줍니다.\n",
    "    x_train, x_test = x_train / 255.0, x_test / 255.0\n",
    "    \n",
    "    model = ANN_classifier(x_train,y_train)\n",
    "    \n",
    "    # 학습한 모델을 test 데이터를 활용하여 평가합니다.\n",
    "    loss, test_acc = model.evaluate(x_test,  y_test, verbose=2)\n",
    "    print('\\n- TEST 정확도 :', test_acc)\n",
    "    \n",
    "    # 임의의 3가지 test data의 이미지와 레이블값을 출력하고 예측된 레이블값 출력\n",
    "    predictions = model.predict(x_test)\n",
    "    rand_n = np.random.randint(100, size=3)\n",
    "\n",
    "    for i in rand_n:\n",
    "        img = x_test[i].reshape(28,28)\n",
    "        plt.imshow(img,cmap=\"gray\")\n",
    "        plt.show()\n",
    "        plt.savefig(\"test.png\")\n",
    "        #eu.send_image(\"test.png\")\n",
    "\n",
    "        print(\"Label: \", y_test[i])\n",
    "        print(\"Prediction: \", np.argmax(predictions[i]))\n",
    "        \n",
    "    \n",
    "if __name__ == \"__main__\":\n",
    "    main()"
   ]
  }
 ],
 "metadata": {
  "kernelspec": {
   "display_name": "Python 3",
   "language": "python",
   "name": "python3"
  },
  "language_info": {
   "codemirror_mode": {
    "name": "ipython",
    "version": 3
   },
   "file_extension": ".py",
   "mimetype": "text/x-python",
   "name": "python",
   "nbconvert_exporter": "python",
   "pygments_lexer": "ipython3",
   "version": "3.7.3"
  }
 },
 "nbformat": 4,
 "nbformat_minor": 2
}
